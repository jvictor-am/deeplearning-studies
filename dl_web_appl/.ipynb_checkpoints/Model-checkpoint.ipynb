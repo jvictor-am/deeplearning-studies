{
 "cells": [
  {
   "cell_type": "code",
   "execution_count": 70,
   "id": "97f22144",
   "metadata": {},
   "outputs": [],
   "source": [
    "import numpy as np\n",
    "import keras\n",
    "from keras.models import Sequential\n",
    "from keras.layers import Dense, Dropout, Flatten, Activation\n",
    "from keras.layers import Conv2D, MaxPooling2D\n",
    "from keras import backend as K\n",
    "from keras.layers.normalization import BatchNormalization"
   ]
  },
  {
   "cell_type": "code",
   "execution_count": 71,
   "id": "f2e71990",
   "metadata": {},
   "outputs": [],
   "source": [
    "def loadImageFile(fileimage):\n",
    "    f = open(fileimage, \"rb\")\n",
    "    \n",
    "    f.read(16)\n",
    "    pixels = 28*28\n",
    "    images_arr = []\n",
    "    while True:\n",
    "        try:\n",
    "            img = []\n",
    "            for j in range(pixels):\n",
    "                pix = ord(f.read(1))\n",
    "                img.append(pix / 255)\n",
    "            images_arr.append(img)\n",
    "        except:\n",
    "            break\n",
    "            \n",
    "    f.close()\n",
    "    image_sets = np.array(images_arr)\n",
    "    return image_sets"
   ]
  },
  {
   "cell_type": "code",
   "execution_count": 72,
   "id": "131087d3",
   "metadata": {},
   "outputs": [],
   "source": [
    "def loadLabelFile(filelabel):\n",
    "    f = open(filelabel, \"rb\")\n",
    "    f.read(8)\n",
    "    \n",
    "    labels_arr = []\n",
    "    \n",
    "    while True:\n",
    "        row = [0 for x in range(10)]\n",
    "        try:\n",
    "            label = ord(f.read(1))\n",
    "            row[label] = 1\n",
    "            labels_arr.append(row)\n",
    "        except:\n",
    "            break\n",
    "    f.close()\n",
    "    label_sets = np.array(labels_arr)\n",
    "    return label_sets"
   ]
  },
  {
   "cell_type": "code",
   "execution_count": 73,
   "id": "04bd5baa",
   "metadata": {},
   "outputs": [],
   "source": [
    "train_images = loadImageFile(\"train-images.idx3-ubyte\")\n",
    "train_labels = loadLabelFile(\"train-labels.idx1-ubyte\")\n",
    "\n",
    "test_images = loadImageFile(\"t10k-images.idx3-ubyte\")\n",
    "test_labels = loadLabelFile(\"t10k-labels.idx1-ubyte\")"
   ]
  },
  {
   "cell_type": "code",
   "execution_count": 74,
   "id": "7267921e",
   "metadata": {},
   "outputs": [
    {
     "name": "stdout",
     "output_type": "stream",
     "text": [
      "(60000, 28, 28, 1)\n",
      "(10000, 28, 28, 1)\n"
     ]
    }
   ],
   "source": [
    "x_train = train_images.reshape(train_images.shape[0], 28, 28, 1)\n",
    "x_test = test_images.reshape(test_images.shape[0], 28, 28, 1)\n",
    "\n",
    "print(np.shape(x_train))\n",
    "print(np.shape(x_test))"
   ]
  },
  {
   "cell_type": "code",
   "execution_count": 75,
   "id": "d937572f",
   "metadata": {},
   "outputs": [],
   "source": [
    "y_train = train_labels\n",
    "y_test = test_labels"
   ]
  },
  {
   "cell_type": "code",
   "execution_count": 76,
   "id": "bdcb5908",
   "metadata": {},
   "outputs": [],
   "source": [
    "model = Sequential()"
   ]
  },
  {
   "cell_type": "code",
   "execution_count": 77,
   "id": "172d3b10",
   "metadata": {},
   "outputs": [],
   "source": [
    "model.add(Conv2D(32, (3, 3), input_shape=(28,28,1)))\n",
    "model.add(Activation('relu'))\n",
    "BatchNormalization(axis=-1)\n",
    "model.add(Conv2D(32, (3, 3)))\n",
    "model.add(Activation('relu'))\n",
    "model.add(MaxPooling2D(pool_size=(2,2)))"
   ]
  },
  {
   "cell_type": "code",
   "execution_count": 78,
   "id": "13456fe4",
   "metadata": {},
   "outputs": [],
   "source": [
    "BatchNormalization(axis=-1)\n",
    "model.add(Conv2D(64,(3, 3)))\n",
    "model.add(Activation('relu'))\n",
    "BatchNormalization(axis=-1)\n",
    "model.add(Conv2D(64, (3, 3)))\n",
    "model.add(Activation('relu'))\n",
    "model.add(MaxPooling2D(pool_size=(2,2)))\n",
    "\n",
    "model.add(Flatten())\n",
    "# Fully connected layer\n",
    "\n",
    "BatchNormalization()\n",
    "model.add(Dense(512))\n",
    "model.add(Activation('relu'))\n",
    "BatchNormalization()\n",
    "model.add(Dropout(0.2))\n",
    "\n",
    "model.add(Dense(10))\n",
    "\n",
    "model.add(Activation('softmax'))"
   ]
  },
  {
   "cell_type": "code",
   "execution_count": 79,
   "id": "31330beb",
   "metadata": {},
   "outputs": [],
   "source": [
    "model.compile(loss=keras.losses.categorical_crossentropy,\n",
    "              optimizer=keras.optimizers.Adam(),\n",
    "              metrics=['accuracy'])"
   ]
  },
  {
   "cell_type": "code",
   "execution_count": 80,
   "id": "3ca44ab4",
   "metadata": {},
   "outputs": [
    {
     "name": "stdout",
     "output_type": "stream",
     "text": [
      "Epoch 1/10\n",
      "480/480 - 119s - loss: 0.1742 - accuracy: 0.9453 - val_loss: 0.0611 - val_accuracy: 0.9818\n",
      "Epoch 2/10\n",
      "480/480 - 117s - loss: 0.0460 - accuracy: 0.9859 - val_loss: 0.0465 - val_accuracy: 0.9868\n",
      "Epoch 3/10\n",
      "480/480 - 150s - loss: 0.0313 - accuracy: 0.9904 - val_loss: 0.0343 - val_accuracy: 0.9899\n",
      "Epoch 4/10\n",
      "480/480 - 117s - loss: 0.0235 - accuracy: 0.9927 - val_loss: 0.0375 - val_accuracy: 0.9896\n",
      "Epoch 5/10\n",
      "480/480 - 117s - loss: 0.0177 - accuracy: 0.9943 - val_loss: 0.0379 - val_accuracy: 0.9898\n",
      "Epoch 6/10\n",
      "480/480 - 117s - loss: 0.0146 - accuracy: 0.9952 - val_loss: 0.0365 - val_accuracy: 0.9902\n",
      "Epoch 7/10\n",
      "480/480 - 127s - loss: 0.0125 - accuracy: 0.9959 - val_loss: 0.0340 - val_accuracy: 0.9914\n",
      "Epoch 8/10\n",
      "480/480 - 121s - loss: 0.0109 - accuracy: 0.9962 - val_loss: 0.0384 - val_accuracy: 0.9903\n",
      "Epoch 9/10\n",
      "480/480 - 118s - loss: 0.0107 - accuracy: 0.9964 - val_loss: 0.0338 - val_accuracy: 0.9923\n",
      "Epoch 10/10\n",
      "480/480 - 117s - loss: 0.0088 - accuracy: 0.9974 - val_loss: 0.0374 - val_accuracy: 0.9908\n"
     ]
    },
    {
     "data": {
      "text/plain": [
       "<tensorflow.python.keras.callbacks.History at 0x7f79bc8caaf0>"
      ]
     },
     "execution_count": 80,
     "metadata": {},
     "output_type": "execute_result"
    }
   ],
   "source": [
    "model.fit(x_train, y_train,\n",
    "          batch_size=100,\n",
    "          epochs=10,\n",
    "          verbose=2,\n",
    "          validation_split=0.2)"
   ]
  },
  {
   "cell_type": "code",
   "execution_count": 81,
   "id": "9064fc24",
   "metadata": {},
   "outputs": [
    {
     "name": "stdout",
     "output_type": "stream",
     "text": [
      "313/313 [==============================] - 7s 23ms/step - loss: 0.0278 - accuracy: 0.9921\n",
      "Test loss: 0.027762889862060547\n",
      "Test accuracy: 0.9921000003814697\n"
     ]
    }
   ],
   "source": [
    "score = model.evaluate(x_test, y_test, verbose=1)\n",
    "print('Test loss:', score[0])\n",
    "print('Test accuracy:', score[1])"
   ]
  },
  {
   "cell_type": "code",
   "execution_count": 82,
   "id": "65ce56b2",
   "metadata": {},
   "outputs": [],
   "source": [
    "model.save_weights(\"weights.h5\")"
   ]
  },
  {
   "cell_type": "code",
   "execution_count": null,
   "id": "89881573",
   "metadata": {},
   "outputs": [],
   "source": [
    "model_json = model.to_json()\n",
    "with open(\"model.json\", \"w\") as json_file:\n",
    "    json_file.write(model_json)"
   ]
  }
 ],
 "metadata": {
  "kernelspec": {
   "display_name": "Python 3",
   "language": "python",
   "name": "python3"
  },
  "language_info": {
   "codemirror_mode": {
    "name": "ipython",
    "version": 3
   },
   "file_extension": ".py",
   "mimetype": "text/x-python",
   "name": "python",
   "nbconvert_exporter": "python",
   "pygments_lexer": "ipython3",
   "version": "3.8.5"
  }
 },
 "nbformat": 4,
 "nbformat_minor": 5
}
